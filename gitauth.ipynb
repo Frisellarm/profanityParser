{
 "cells": [
  {
   "cell_type": "code",
   "execution_count": 1,
   "metadata": {},
   "outputs": [],
   "source": [
    "import json\n",
    "import requests"
   ]
  },
  {
   "cell_type": "code",
   "execution_count": 8,
   "metadata": {},
   "outputs": [],
   "source": [
    "# load in api key\n",
    "credentials = json.load(open('./apikey.json', 'r'), encoding='utf-8')"
   ]
  },
  {
   "cell_type": "code",
   "execution_count": 4,
   "metadata": {},
   "outputs": [],
   "source": [
    "# GHE docs:\n",
    "# curl -H \"Authorization: token OAUTH-TOKEN\" http(s)://[hostname]/api/v3\n",
    "\n",
    "baseurl = 'git.generalassemb.ly'\n",
    "r = requests.get('https://' + baseurl + '/api/v3', headers={'Authorization': 'TOK:' + credentials['token']})"
   ]
  },
  {
   "cell_type": "code",
   "execution_count": 5,
   "metadata": {},
   "outputs": [
    {
     "data": {
      "text/plain": [
       "200"
      ]
     },
     "execution_count": 5,
     "metadata": {},
     "output_type": "execute_result"
    }
   ],
   "source": [
    "r.status_code"
   ]
  },
  {
   "cell_type": "code",
   "execution_count": 7,
   "metadata": {},
   "outputs": [
    {
     "data": {
      "text/plain": [
       "{'current_user_url': 'https://git.generalassemb.ly/api/v3/user',\n",
       " 'current_user_authorizations_html_url': 'https://git.generalassemb.ly/settings/connections/applications{/client_id}',\n",
       " 'authorizations_url': 'https://git.generalassemb.ly/api/v3/authorizations',\n",
       " 'code_search_url': 'https://git.generalassemb.ly/api/v3/search/code?q={query}{&page,per_page,sort,order}',\n",
       " 'commit_search_url': 'https://git.generalassemb.ly/api/v3/search/commits?q={query}{&page,per_page,sort,order}',\n",
       " 'emails_url': 'https://git.generalassemb.ly/api/v3/user/emails',\n",
       " 'emojis_url': 'https://git.generalassemb.ly/api/v3/emojis',\n",
       " 'events_url': 'https://git.generalassemb.ly/api/v3/events',\n",
       " 'feeds_url': 'https://git.generalassemb.ly/api/v3/feeds',\n",
       " 'followers_url': 'https://git.generalassemb.ly/api/v3/user/followers',\n",
       " 'following_url': 'https://git.generalassemb.ly/api/v3/user/following{/target}',\n",
       " 'gists_url': 'https://git.generalassemb.ly/api/v3/gists{/gist_id}',\n",
       " 'hub_url': 'https://git.generalassemb.ly/api/v3/hub',\n",
       " 'issue_search_url': 'https://git.generalassemb.ly/api/v3/search/issues?q={query}{&page,per_page,sort,order}',\n",
       " 'issues_url': 'https://git.generalassemb.ly/api/v3/issues',\n",
       " 'keys_url': 'https://git.generalassemb.ly/api/v3/user/keys',\n",
       " 'notifications_url': 'https://git.generalassemb.ly/api/v3/notifications',\n",
       " 'organization_repositories_url': 'https://git.generalassemb.ly/api/v3/orgs/{org}/repos{?type,page,per_page,sort}',\n",
       " 'organization_url': 'https://git.generalassemb.ly/api/v3/orgs/{org}',\n",
       " 'public_gists_url': 'https://git.generalassemb.ly/api/v3/gists/public',\n",
       " 'rate_limit_url': 'https://git.generalassemb.ly/api/v3/rate_limit',\n",
       " 'repository_url': 'https://git.generalassemb.ly/api/v3/repos/{owner}/{repo}',\n",
       " 'repository_search_url': 'https://git.generalassemb.ly/api/v3/search/repositories?q={query}{&page,per_page,sort,order}',\n",
       " 'current_user_repositories_url': 'https://git.generalassemb.ly/api/v3/user/repos{?type,page,per_page,sort}',\n",
       " 'starred_url': 'https://git.generalassemb.ly/api/v3/user/starred{/owner}{/repo}',\n",
       " 'starred_gists_url': 'https://git.generalassemb.ly/api/v3/gists/starred',\n",
       " 'team_url': 'https://git.generalassemb.ly/api/v3/teams',\n",
       " 'user_url': 'https://git.generalassemb.ly/api/v3/users/{user}',\n",
       " 'user_organizations_url': 'https://git.generalassemb.ly/api/v3/user/orgs',\n",
       " 'user_repositories_url': 'https://git.generalassemb.ly/api/v3/users/{user}/repos{?type,page,per_page,sort}',\n",
       " 'user_search_url': 'https://git.generalassemb.ly/api/v3/search/users?q={query}{&page,per_page,sort,order}'}"
      ]
     },
     "execution_count": 7,
     "metadata": {},
     "output_type": "execute_result"
    }
   ],
   "source": [
    "json.loads(r.content)"
   ]
  },
  {
   "cell_type": "code",
   "execution_count": null,
   "metadata": {},
   "outputs": [],
   "source": []
  }
 ],
 "metadata": {
  "kernelspec": {
   "display_name": "Python 3",
   "language": "python",
   "name": "python3"
  },
  "language_info": {
   "codemirror_mode": {
    "name": "ipython",
    "version": 3
   },
   "file_extension": ".py",
   "mimetype": "text/x-python",
   "name": "python",
   "nbconvert_exporter": "python",
   "pygments_lexer": "ipython3",
   "version": "3.6.2"
  }
 },
 "nbformat": 4,
 "nbformat_minor": 2
}
