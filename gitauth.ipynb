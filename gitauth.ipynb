{
 "cells": [
  {
   "cell_type": "code",
   "execution_count": 1,
   "metadata": {},
   "outputs": [],
   "source": [
    "import json\n",
    "import requests"
   ]
  },
  {
   "cell_type": "code",
   "execution_count": 2,
   "metadata": {},
   "outputs": [],
   "source": [
    "# load in api key\n",
    "credentials = json.load(open('./apikey.json', 'r'), encoding='utf-8')"
   ]
  },
  {
   "cell_type": "code",
   "execution_count": 3,
   "metadata": {},
   "outputs": [],
   "source": [
    "# GHE docs:\n",
    "# curl -H \"Authorization: token OAUTH-TOKEN\" http(s)://[hostname]/api/v3  <-- endpoint\n",
    "''' \n",
    "Declare global variables\n",
    "'''\n",
    "baseurl = 'git.generalassemb.ly' # of course may be different for you\n",
    "header = {'Authorization': 'token {}'.format(credentials['token'])}\n",
    "source_org = 'Data-science-immersive' # change this as you see fit\n",
    "target_org = 'DSI-ME-1' # this one too\n",
    "repo_names = []\n",
    "data = { 'organization': target_org }"
   ]
  },
  {
   "cell_type": "code",
   "execution_count": null,
   "metadata": {},
   "outputs": [],
   "source": [
    "'''\n",
    "Example calls below\n",
    "'''\n",
    "# call the base endpoint\n",
    "'''\n",
    "r = requests.get('https://{}/api/v3'.format(baseurl), headers=header)\n",
    "'''\n",
    "\n",
    "# get a listing of orgs the user's api key has access to\n",
    "'''\n",
    "r = requests.get('https://{}/api/v3/user/orgs'.format(baseurl), headers=header)\n",
    "orgs = json.loads(r.content)\n",
    "for org in orgs:\n",
    "    print('{}: id = {}'.format(org['login'], org['id']))\n",
    "'''"
   ]
  },
  {
   "cell_type": "markdown",
   "metadata": {},
   "source": [
    "### Code below will clone an entire org's repos to a local folder; use with parseme.ipynb"
   ]
  },
  {
   "cell_type": "code",
   "execution_count": null,
   "metadata": {},
   "outputs": [],
   "source": [
    "# get a listing of all repos in the target org, 'Data-science-immersive'\n",
    "# from GHE docs: GET /orgs/:org/repos\n",
    "\n",
    "r = requests.get('https://{}/api/v3/orgs/{}/repos'.format(baseurl, source_org), \\\n",
    "                 headers=header)\n",
    "repos = json.loads(r.content)\n",
    "\n",
    "clones = []\n",
    "for repo in repos:\n",
    "    clones.append(repo['ssh_url'])\n",
    "    \n",
    "# show first 5\n",
    "for repo in repos[:5]:\n",
    "    print('{}, {}'.format(repo['name'], repo['ssh_url']))"
   ]
  },
  {
   "cell_type": "code",
   "execution_count": null,
   "metadata": {},
   "outputs": [],
   "source": [
    "'''\n",
    "This will create a place for all the cloned repos to live.\n",
    "Use the parseme file, pointing to this directory, to\n",
    "scan all clones repos for words\n",
    "'''\n",
    "\n",
    "%%bash\n",
    "if [ ! -d \"./course_dump\" ]; then\n",
    "    mkdir ./course_dump\n",
    "    echo \"created directory ./course_dump\"\n",
    "else\n",
    "    echo \"directory already exists: ./course_dump\"\n",
    "fi"
   ]
  },
  {
   "cell_type": "code",
   "execution_count": null,
   "metadata": {},
   "outputs": [],
   "source": [
    "# WARNING!!! ===\n",
    "# this will clone ALL repositories in the organization to ./course_dump!!\n",
    "# note - has bug; will not retry cloning of repository if network fails :'(\n",
    "\n",
    "try:\n",
    "    for repo in clones:\n",
    "        # made it sleepy to be a good citizen\n",
    "        !cd ./course_dump && git clone $repo && sleep 1\n",
    "    print(\"Finished cloning {} repositories into ./course_dump\".format(len(clones)))\n",
    "except:\n",
    "    # outstanding error handling here\n",
    "    print(\"noooooo!!\")"
   ]
  },
  {
   "cell_type": "markdown",
   "metadata": {},
   "source": [
    "### This will fork all repositories from a source org to a target org"
   ]
  },
  {
   "cell_type": "code",
   "execution_count": 4,
   "metadata": {},
   "outputs": [],
   "source": [
    "r = requests.get('https://{}/api/v3/orgs/{}/repos'.format(baseurl, source_org), \\\n",
    "                 headers=header)\n",
    "repos = json.loads(r.content)\n",
    "\n",
    "fork_urls = []\n",
    "for repo in repos:\n",
    "    fork_urls.append(repo['forks_url'])"
   ]
  },
  {
   "cell_type": "code",
   "execution_count": 5,
   "metadata": {},
   "outputs": [
    {
     "name": "stdout",
     "output_type": "stream",
     "text": [
      "Data-science-immersive/python-101-lesson successfully forked to DSI-ME-1/templates\n",
      "Data-science-immersive/python-101-lesson successfully forked to DSI-ME-1/python-101-lesson\n",
      "Data-science-immersive/python-101-lesson successfully forked to DSI-ME-1/python-comprehensions-lab\n",
      "Data-science-immersive/python-101-lesson successfully forked to DSI-ME-1/python-comprehensions-lesson\n",
      "Data-science-immersive/python-101-lesson successfully forked to DSI-ME-1/python-functions-lesson\n",
      "Data-science-immersive/python-101-lesson successfully forked to DSI-ME-1/python-intro_to_python_pokemon-lab\n",
      "Data-science-immersive/python-101-lesson successfully forked to DSI-ME-1/python-iteration_control_functions-lesson\n",
      "Data-science-immersive/python-101-lesson successfully forked to DSI-ME-1/statistics-central_limit_theorem-lesson\n",
      "Data-science-immersive/python-101-lesson successfully forked to DSI-ME-1/statistics-continuous_distributions-lesson\n",
      "Data-science-immersive/python-101-lesson successfully forked to DSI-ME-1/statistics-discrete_distributions-lesson\n",
      "Data-science-immersive/python-101-lesson successfully forked to DSI-ME-1/statistics-distributions-lab\n",
      "Data-science-immersive/python-101-lesson successfully forked to DSI-ME-1/statistics-inference-lab\n",
      "Data-science-immersive/python-101-lesson successfully forked to DSI-ME-1/statistics-inference-lesson\n",
      "Data-science-immersive/python-101-lesson successfully forked to DSI-ME-1/2.01-2.02-intro-to-pandas\n",
      "Data-science-immersive/python-101-lesson successfully forked to DSI-ME-1/2.03-basic_eda_walkthrough-lesson-eda\n",
      "Data-science-immersive/python-101-lesson successfully forked to DSI-ME-1/2.01-lab-pandas-titanic\n",
      "Data-science-immersive/python-101-lesson successfully forked to DSI-ME-1/2.04-advanced-transformations-pandas\n",
      "Data-science-immersive/python-101-lesson successfully forked to DSI-ME-1/2.05-lesson-sql\n",
      "Data-science-immersive/python-101-lesson successfully forked to DSI-ME-1/2.07-lesson-pandas-combining\n",
      "Data-science-immersive/python-101-lesson successfully forked to DSI-ME-1/2.03-lab-pandas-concat\n",
      "Data-science-immersive/python-101-lesson successfully forked to DSI-ME-1/2.02-lab-pandas-feature-engineering\n",
      "Data-science-immersive/python-101-lesson successfully forked to DSI-ME-1/project-1\n",
      "Data-science-immersive/python-101-lesson successfully forked to DSI-ME-1/3.06-evaluation-cross_validation_train_test-lesson\n",
      "Data-science-immersive/python-101-lesson successfully forked to DSI-ME-1/3.05-feature-engineering\n",
      "Data-science-immersive/python-101-lesson successfully forked to DSI-ME-1/3.07-lesson-regularization-regression\n",
      "Data-science-immersive/python-101-lesson successfully forked to DSI-ME-1/3.01-lab-linear_regression-regression\n",
      "Data-science-immersive/python-101-lesson successfully forked to DSI-ME-1/3.02-lab-cross_validation_regularization-regression\n",
      "Data-science-immersive/python-101-lesson successfully forked to DSI-ME-1/3.04-bias-variance-tradeoff\n",
      "Data-science-immersive/python-101-lesson successfully forked to DSI-ME-1/3.01-lesson-simple_linear_regression\n",
      "Data-science-immersive/python-101-lesson successfully forked to DSI-ME-1/3.03-regression-metrics-lesson\n"
     ]
    }
   ],
   "source": [
    "# set the target org parameter, where the forks will go\n",
    "data = { 'organization': target_org }\n",
    "\n",
    "'''\n",
    "This needs to be done as a session because the GET request does the\n",
    "auth, and the POST request does the forking. You CAN'T pass a cookie\n",
    "between the two sessions, I tried. Couldn't find any examples of anybody\n",
    "doing this on SO, etc. Was able to get it working with CURL but wanted\n",
    "to use python requests lib. Trick is passing the header with BOTH the \n",
    "GET *AND* the POST requests. You can't just send the header with the \n",
    "POST request, despite what the docs lead you to believe.\n",
    "\n",
    "School of hard knocks... damn it feels good to be a gangster\n",
    "'''\n",
    "\n",
    "with requests.Session() as s:\n",
    "    # this get request authenticates the user\n",
    "    r1 = s.get('https://{}/api/v3'.format(baseurl), headers=header)\n",
    "    # ...and then this post request creates the fork\n",
    "    for fork_url in fork_urls:\n",
    "        r2 = s.post(fork_url, headers=header, data=json.dumps(data))\n",
    "        print('{} successfully forked to {}'.format( \\\n",
    "            fork_url.split('/')[-3] + '/' + fork_url.split('/')[-2], \\\n",
    "            json.loads(r2.text)['full_name'])\n",
    "        )"
   ]
  }
 ],
 "metadata": {
  "kernelspec": {
   "display_name": "Python 3",
   "language": "python",
   "name": "python3"
  },
  "language_info": {
   "codemirror_mode": {
    "name": "ipython",
    "version": 3
   },
   "file_extension": ".py",
   "mimetype": "text/x-python",
   "name": "python",
   "nbconvert_exporter": "python",
   "pygments_lexer": "ipython3",
   "version": "3.6.2"
  }
 },
 "nbformat": 4,
 "nbformat_minor": 2
}
